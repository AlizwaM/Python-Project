{
 "cells": [
  {
   "cell_type": "code",
   "execution_count": null,
   "id": "28cf7ca8-37d3-4085-8d85-d267d4eab7db",
   "metadata": {},
   "outputs": [],
   "source": [
    "#This is my python project and all the code. If you want to see the csv file, please go to my Github, it is there. Thank You!"
   ]
  },
  {
   "cell_type": "code",
   "execution_count": 287,
   "id": "f6f48de4-0f2f-42d8-974e-9fe219aa9fa8",
   "metadata": {},
   "outputs": [],
   "source": [
    "# import the libraries im going to use \n",
    "\n",
    "from bs4 import BeautifulSoup\n",
    "import requests\n",
    "import time\n",
    "import datetime\n",
    "\n",
    "import smtplib"
   ]
  },
  {
   "cell_type": "code",
   "execution_count": 391,
   "id": "1115ddf4-64b5-4393-8a58-9b0045b047e4",
   "metadata": {},
   "outputs": [
    {
     "name": "stdout",
     "output_type": "stream",
     "text": [
      "Stanley Quencher H2.0 FlowState Stainless Steel Vacuum Insulated Tumbler with Lid and Straw for Water, Iced Tea or Coffee, Smoothie and More, Rose Quartz 2.0, 30 OZ / 0.89 L\n",
      "$35.00\n",
      "4.7 out of 5 stars\n"
     ]
    }
   ],
   "source": [
    "# Connecting to the Website and pulling in data. \n",
    "\n",
    "URL = 'https://www.amazon.com/Quencher-FlowState-Stainless-Insulated-Smoothie/dp/B0CP9YB3Q4/ref=sr_1_1_sspa?crid=3P3GCAOEVSLMF&dib=eyJ2IjoiMSJ9.nS0HmK5xS_QRN8xq7A0OLEcbGaAmSEkboWi3hjVGZDudrhFRTeqHb9QOX5IbZDG1MiZM035RFGrdiVCez6CZ9teEE5GroQQ95RZlqhfUr5nxpExKzYji__YgPLA9odJmbfWKgNyZJincL1MdpO9_qBsOjYaL9tWE_lW0G_33rdO6b1m14t-7Kza-wlPgPWo1tf70Z0VCj2WBL8p8Ygiz-dX0chMcEZBNa9QuvGp9xu9faR3-JOITxZzcalvQVKqqd109-uDA9rMKclvMiOYmVuY-OOfFVZBiA3wV8v3koMs.OGwBsfXF_ILNQkD54ju3Fd7UZxn_2XaW3eGX3k7mbUw&dib_tag=se&keywords=stanley%2Bcup&qid=1726060152&sprefix=stanley%2Caps%2C408&sr=8-1-spons&sp_csd=d2lkZ2V0TmFtZT1zcF9hdGY&th=1'\n",
    "\n",
    "headers  = {\"User-Agent\": \"Mozilla/5.0 (Macintosh; Intel Mac OS X 10_15_7) AppleWebKit/605.1.15 (KHTML, like Gecko) Version/17.6 Safari/605.1.15\", \"Accept-Encoding\":\"gzip, deflate\", \"Accept\":\"text/html,application/xhtml+xml,application/xml;q=0.9,*/*;q=0.8\", \"DNT\":\"1\",\"Connection\":\"close\", \"Upgrade-Insecure-Requests\":\"1\"}\n",
    "\n",
    "page = requests.get(URL,headers=headers)\n",
    "\n",
    "soup= BeautifulSoup(page.content, \"html.parser\")\n",
    "\n",
    "title = soup.find(id='productTitle').get_text().strip()\n",
    "\n",
    "price = soup.find('span',class_='a-offscreen').get_text().replace(\"$\",\"$\")\n",
    "\n",
    "rating = soup.find('span',class_='a-icon-alt').get_text().replace(\"\",\"\")\n",
    "\n",
    "print(title)\n",
    "print(price)\n",
    "print(rating)\n"
   ]
  },
  {
   "cell_type": "code",
   "execution_count": 341,
   "id": "b9e77bcc-1ac8-4d40-995a-19dbe7be7144",
   "metadata": {},
   "outputs": [
    {
     "name": "stdout",
     "output_type": "stream",
     "text": [
      "Date: 2024-09-11\n"
     ]
    }
   ],
   "source": [
    "#this is time stamp\n",
    "\n",
    "import datetime\n",
    "\n",
    "today = datetime.date.today()\n",
    "\n",
    "print('Date:',today)\n"
   ]
  },
  {
   "cell_type": "code",
   "execution_count": 387,
   "id": "224ca4dd-7918-4b3b-bbdc-6bdd31427d24",
   "metadata": {},
   "outputs": [],
   "source": [
    "#creating the csv file to write headers and data into the files (automate the data from)\n",
    "\n",
    "import csv \n",
    "\n",
    "header = ['Title', 'Price','Date','Rating']\n",
    "data = [title, price, today, rating]\n",
    "\n",
    "#uncomment this section if you want to delete the data\n",
    "#with open('AmazonWScraperDataSet.csv', 'w', newline='', encoding='UTF8') as f:\n",
    "    #writer = csv.writer(f)\n",
    "    #writer.writerow(header)\n",
    "    #writer.writerow(data)"
   ]
  },
  {
   "cell_type": "code",
   "execution_count": 398,
   "id": "75ef2075-690c-4f52-bb97-ea30224d83ae",
   "metadata": {},
   "outputs": [
    {
     "name": "stdout",
     "output_type": "stream",
     "text": [
      "                                               Title   Price        Date  \\\n",
      "0  Stanley Quencher H2.0 FlowState Stainless Stee...  $35.00  2024-09-11   \n",
      "1  Stanley Quencher H2.0 FlowState Stainless Stee...  $35.00  2024-09-11   \n",
      "\n",
      "               Rating  \n",
      "0  4.7 out of 5 stars  \n",
      "1  4.7 out of 5 stars  \n"
     ]
    }
   ],
   "source": [
    "#using pandas to check the data without having to open the data evrytime\n",
    "\n",
    "import pandas as pd\n",
    "\n",
    "df = pd.read_csv(r'/Users/alizwamahamba/AmazonWScraperDataSet.csv')\n",
    "\n",
    "print(df)"
   ]
  },
  {
   "cell_type": "code",
   "execution_count": 400,
   "id": "f5a00934-2e29-4649-b7b5-05002ce0bc62",
   "metadata": {},
   "outputs": [],
   "source": [
    "#we are appending more data into the csv  \n",
    "\n",
    "with open('AmazonWScraperDataSet.csv', 'a+', newline='', encoding='UTF8') as f:\n",
    "    writer = csv.writer(f)\n",
    "    writer.writerow(data)"
   ]
  },
  {
   "cell_type": "code",
   "execution_count": 415,
   "id": "e691772b-3924-414b-b613-f12598472abc",
   "metadata": {},
   "outputs": [],
   "source": [
    "#i am automating the data \n",
    "\n",
    "#pulling everything from here \n",
    "\n",
    "def check_price():\n",
    "    URL = 'https://www.amazon.com/Quencher-FlowState-Stainless-Insulated-Smoothie/dp/B0CP9YB3Q4/ref=sr_1_1_sspa?crid=3P3GCAOEVSLMF&dib=eyJ2IjoiMSJ9.nS0HmK5xS_QRN8xq7A0OLEcbGaAmSEkboWi3hjVGZDudrhFRTeqHb9QOX5IbZDG1MiZM035RFGrdiVCez6CZ9teEE5GroQQ95RZlqhfUr5nxpExKzYji__YgPLA9odJmbfWKgNyZJincL1MdpO9_qBsOjYaL9tWE_lW0G_33rdO6b1m14t-7Kza-wlPgPWo1tf70Z0VCj2WBL8p8Ygiz-dX0chMcEZBNa9QuvGp9xu9faR3-JOITxZzcalvQVKqqd109-uDA9rMKclvMiOYmVuY-OOfFVZBiA3wV8v3koMs.OGwBsfXF_ILNQkD54ju3Fd7UZxn_2XaW3eGX3k7mbUw&dib_tag=se&keywords=stanley%2Bcup&qid=1726060152&sprefix=stanley%2Caps%2C408&sr=8-1-spons&sp_csd=d2lkZ2V0TmFtZT1zcF9hdGY&th=1'\n",
    "\n",
    "    headers  = {\"User-Agent\": \"Mozilla/5.0 (Macintosh; Intel Mac OS X 10_15_7) AppleWebKit/605.1.15 (KHTML, like Gecko) Version/17.6 Safari/605.1.15\", \"Accept-Encoding\":\"gzip, deflate\", \"Accept\":\"text/html,application/xhtml+xml,application/xml;q=0.9,*/*;q=0.8\", \"DNT\":\"1\",\"Connection\":\"close\", \"Upgrade-Insecure-Requests\":\"1\"}\n",
    "    page = requests.get(URL,headers=headers)\n",
    "    soup= BeautifulSoup(page.content, \"html.parser\")\n",
    "    title = soup.find(id='productTitle').get_text().strip()\n",
    "    price = soup.find('span',class_='a-offscreen').get_text().replace(\"$\",\"$\")\n",
    "    rating = soup.find('span',class_='a-icon-alt').get_text().replace(\"\",\"\")\n",
    "    \n",
    "    import datetime\n",
    "    today = datetime.date.today()\n",
    "    \n",
    "    import csv \n",
    "    \n",
    "    header = ['Title', 'Price','Date','Rating']\n",
    "    data = [title, price, today, rating]\n",
    "    \n",
    "    with open('AmazonWScraperDataSet.csv', 'a+', newline='', encoding='UTF8') as f:\n",
    "        writer = csv.writer(f)\n",
    "        writer.writerow(data)\n"
   ]
  },
  {
   "cell_type": "code",
   "execution_count": 417,
   "id": "0c7c0649-3028-4e02-b3a9-46996dfa806e",
   "metadata": {},
   "outputs": [
    {
     "ename": "KeyboardInterrupt",
     "evalue": "",
     "output_type": "error",
     "traceback": [
      "\u001b[0;31m---------------------------------------------------------------------------\u001b[0m",
      "\u001b[0;31mKeyboardInterrupt\u001b[0m                         Traceback (most recent call last)",
      "Cell \u001b[0;32mIn[417], line 4\u001b[0m\n\u001b[1;32m      1\u001b[0m \u001b[38;5;66;03m#this is the timer to run for the price and inputs the data into the csv\u001b[39;00m\n\u001b[1;32m      3\u001b[0m \u001b[38;5;28;01mwhile\u001b[39;00m(\u001b[38;5;28;01mTrue\u001b[39;00m):\n\u001b[0;32m----> 4\u001b[0m     check_price()\n\u001b[1;32m      5\u001b[0m     time\u001b[38;5;241m.\u001b[39msleep(\u001b[38;5;241m8\u001b[39m)\n",
      "Cell \u001b[0;32mIn[415], line 9\u001b[0m, in \u001b[0;36mcheck_price\u001b[0;34m()\u001b[0m\n\u001b[1;32m      6\u001b[0m URL \u001b[38;5;241m=\u001b[39m \u001b[38;5;124m'\u001b[39m\u001b[38;5;124mhttps://www.amazon.com/Quencher-FlowState-Stainless-Insulated-Smoothie/dp/B0CP9YB3Q4/ref=sr_1_1_sspa?crid=3P3GCAOEVSLMF&dib=eyJ2IjoiMSJ9.nS0HmK5xS_QRN8xq7A0OLEcbGaAmSEkboWi3hjVGZDudrhFRTeqHb9QOX5IbZDG1MiZM035RFGrdiVCez6CZ9teEE5GroQQ95RZlqhfUr5nxpExKzYji__YgPLA9odJmbfWKgNyZJincL1MdpO9_qBsOjYaL9tWE_lW0G_33rdO6b1m14t-7Kza-wlPgPWo1tf70Z0VCj2WBL8p8Ygiz-dX0chMcEZBNa9QuvGp9xu9faR3-JOITxZzcalvQVKqqd109-uDA9rMKclvMiOYmVuY-OOfFVZBiA3wV8v3koMs.OGwBsfXF_ILNQkD54ju3Fd7UZxn_2XaW3eGX3k7mbUw&dib_tag=se&keywords=stanley\u001b[39m\u001b[38;5;124m%\u001b[39m\u001b[38;5;124m2Bcup&qid=1726060152&sprefix=stanley\u001b[39m\u001b[38;5;124m%\u001b[39m\u001b[38;5;124m2Caps\u001b[39m\u001b[38;5;124m%\u001b[39m\u001b[38;5;124m2C408&sr=8-1-spons&sp_csd=d2lkZ2V0TmFtZT1zcF9hdGY&th=1\u001b[39m\u001b[38;5;124m'\u001b[39m\n\u001b[1;32m      8\u001b[0m headers  \u001b[38;5;241m=\u001b[39m {\u001b[38;5;124m\"\u001b[39m\u001b[38;5;124mUser-Agent\u001b[39m\u001b[38;5;124m\"\u001b[39m: \u001b[38;5;124m\"\u001b[39m\u001b[38;5;124mMozilla/5.0 (Macintosh; Intel Mac OS X 10_15_7) AppleWebKit/605.1.15 (KHTML, like Gecko) Version/17.6 Safari/605.1.15\u001b[39m\u001b[38;5;124m\"\u001b[39m, \u001b[38;5;124m\"\u001b[39m\u001b[38;5;124mAccept-Encoding\u001b[39m\u001b[38;5;124m\"\u001b[39m:\u001b[38;5;124m\"\u001b[39m\u001b[38;5;124mgzip, deflate\u001b[39m\u001b[38;5;124m\"\u001b[39m, \u001b[38;5;124m\"\u001b[39m\u001b[38;5;124mAccept\u001b[39m\u001b[38;5;124m\"\u001b[39m:\u001b[38;5;124m\"\u001b[39m\u001b[38;5;124mtext/html,application/xhtml+xml,application/xml;q=0.9,*/*;q=0.8\u001b[39m\u001b[38;5;124m\"\u001b[39m, \u001b[38;5;124m\"\u001b[39m\u001b[38;5;124mDNT\u001b[39m\u001b[38;5;124m\"\u001b[39m:\u001b[38;5;124m\"\u001b[39m\u001b[38;5;124m1\u001b[39m\u001b[38;5;124m\"\u001b[39m,\u001b[38;5;124m\"\u001b[39m\u001b[38;5;124mConnection\u001b[39m\u001b[38;5;124m\"\u001b[39m:\u001b[38;5;124m\"\u001b[39m\u001b[38;5;124mclose\u001b[39m\u001b[38;5;124m\"\u001b[39m, \u001b[38;5;124m\"\u001b[39m\u001b[38;5;124mUpgrade-Insecure-Requests\u001b[39m\u001b[38;5;124m\"\u001b[39m:\u001b[38;5;124m\"\u001b[39m\u001b[38;5;124m1\u001b[39m\u001b[38;5;124m\"\u001b[39m}\n\u001b[0;32m----> 9\u001b[0m page \u001b[38;5;241m=\u001b[39m requests\u001b[38;5;241m.\u001b[39mget(URL,headers\u001b[38;5;241m=\u001b[39mheaders)\n\u001b[1;32m     10\u001b[0m soup\u001b[38;5;241m=\u001b[39m BeautifulSoup(page\u001b[38;5;241m.\u001b[39mcontent, \u001b[38;5;124m\"\u001b[39m\u001b[38;5;124mhtml.parser\u001b[39m\u001b[38;5;124m\"\u001b[39m)\n\u001b[1;32m     11\u001b[0m title \u001b[38;5;241m=\u001b[39m soup\u001b[38;5;241m.\u001b[39mfind(\u001b[38;5;28mid\u001b[39m\u001b[38;5;241m=\u001b[39m\u001b[38;5;124m'\u001b[39m\u001b[38;5;124mproductTitle\u001b[39m\u001b[38;5;124m'\u001b[39m)\u001b[38;5;241m.\u001b[39mget_text()\u001b[38;5;241m.\u001b[39mstrip()\n",
      "File \u001b[0;32m/opt/anaconda3/lib/python3.12/site-packages/requests/api.py:73\u001b[0m, in \u001b[0;36mget\u001b[0;34m(url, params, **kwargs)\u001b[0m\n\u001b[1;32m     62\u001b[0m \u001b[38;5;28;01mdef\u001b[39;00m \u001b[38;5;21mget\u001b[39m(url, params\u001b[38;5;241m=\u001b[39m\u001b[38;5;28;01mNone\u001b[39;00m, \u001b[38;5;241m*\u001b[39m\u001b[38;5;241m*\u001b[39mkwargs):\n\u001b[1;32m     63\u001b[0m \u001b[38;5;250m    \u001b[39m\u001b[38;5;124mr\u001b[39m\u001b[38;5;124;03m\"\"\"Sends a GET request.\u001b[39;00m\n\u001b[1;32m     64\u001b[0m \n\u001b[1;32m     65\u001b[0m \u001b[38;5;124;03m    :param url: URL for the new :class:`Request` object.\u001b[39;00m\n\u001b[0;32m   (...)\u001b[0m\n\u001b[1;32m     70\u001b[0m \u001b[38;5;124;03m    :rtype: requests.Response\u001b[39;00m\n\u001b[1;32m     71\u001b[0m \u001b[38;5;124;03m    \"\"\"\u001b[39;00m\n\u001b[0;32m---> 73\u001b[0m     \u001b[38;5;28;01mreturn\u001b[39;00m request(\u001b[38;5;124m\"\u001b[39m\u001b[38;5;124mget\u001b[39m\u001b[38;5;124m\"\u001b[39m, url, params\u001b[38;5;241m=\u001b[39mparams, \u001b[38;5;241m*\u001b[39m\u001b[38;5;241m*\u001b[39mkwargs)\n",
      "File \u001b[0;32m/opt/anaconda3/lib/python3.12/site-packages/requests/api.py:59\u001b[0m, in \u001b[0;36mrequest\u001b[0;34m(method, url, **kwargs)\u001b[0m\n\u001b[1;32m     55\u001b[0m \u001b[38;5;66;03m# By using the 'with' statement we are sure the session is closed, thus we\u001b[39;00m\n\u001b[1;32m     56\u001b[0m \u001b[38;5;66;03m# avoid leaving sockets open which can trigger a ResourceWarning in some\u001b[39;00m\n\u001b[1;32m     57\u001b[0m \u001b[38;5;66;03m# cases, and look like a memory leak in others.\u001b[39;00m\n\u001b[1;32m     58\u001b[0m \u001b[38;5;28;01mwith\u001b[39;00m sessions\u001b[38;5;241m.\u001b[39mSession() \u001b[38;5;28;01mas\u001b[39;00m session:\n\u001b[0;32m---> 59\u001b[0m     \u001b[38;5;28;01mreturn\u001b[39;00m session\u001b[38;5;241m.\u001b[39mrequest(method\u001b[38;5;241m=\u001b[39mmethod, url\u001b[38;5;241m=\u001b[39murl, \u001b[38;5;241m*\u001b[39m\u001b[38;5;241m*\u001b[39mkwargs)\n",
      "File \u001b[0;32m/opt/anaconda3/lib/python3.12/site-packages/requests/sessions.py:589\u001b[0m, in \u001b[0;36mSession.request\u001b[0;34m(self, method, url, params, data, headers, cookies, files, auth, timeout, allow_redirects, proxies, hooks, stream, verify, cert, json)\u001b[0m\n\u001b[1;32m    584\u001b[0m send_kwargs \u001b[38;5;241m=\u001b[39m {\n\u001b[1;32m    585\u001b[0m     \u001b[38;5;124m\"\u001b[39m\u001b[38;5;124mtimeout\u001b[39m\u001b[38;5;124m\"\u001b[39m: timeout,\n\u001b[1;32m    586\u001b[0m     \u001b[38;5;124m\"\u001b[39m\u001b[38;5;124mallow_redirects\u001b[39m\u001b[38;5;124m\"\u001b[39m: allow_redirects,\n\u001b[1;32m    587\u001b[0m }\n\u001b[1;32m    588\u001b[0m send_kwargs\u001b[38;5;241m.\u001b[39mupdate(settings)\n\u001b[0;32m--> 589\u001b[0m resp \u001b[38;5;241m=\u001b[39m \u001b[38;5;28mself\u001b[39m\u001b[38;5;241m.\u001b[39msend(prep, \u001b[38;5;241m*\u001b[39m\u001b[38;5;241m*\u001b[39msend_kwargs)\n\u001b[1;32m    591\u001b[0m \u001b[38;5;28;01mreturn\u001b[39;00m resp\n",
      "File \u001b[0;32m/opt/anaconda3/lib/python3.12/site-packages/requests/sessions.py:746\u001b[0m, in \u001b[0;36mSession.send\u001b[0;34m(self, request, **kwargs)\u001b[0m\n\u001b[1;32m    743\u001b[0m         \u001b[38;5;28;01mpass\u001b[39;00m\n\u001b[1;32m    745\u001b[0m \u001b[38;5;28;01mif\u001b[39;00m \u001b[38;5;129;01mnot\u001b[39;00m stream:\n\u001b[0;32m--> 746\u001b[0m     r\u001b[38;5;241m.\u001b[39mcontent\n\u001b[1;32m    748\u001b[0m \u001b[38;5;28;01mreturn\u001b[39;00m r\n",
      "File \u001b[0;32m/opt/anaconda3/lib/python3.12/site-packages/requests/models.py:902\u001b[0m, in \u001b[0;36mResponse.content\u001b[0;34m(self)\u001b[0m\n\u001b[1;32m    900\u001b[0m         \u001b[38;5;28mself\u001b[39m\u001b[38;5;241m.\u001b[39m_content \u001b[38;5;241m=\u001b[39m \u001b[38;5;28;01mNone\u001b[39;00m\n\u001b[1;32m    901\u001b[0m     \u001b[38;5;28;01melse\u001b[39;00m:\n\u001b[0;32m--> 902\u001b[0m         \u001b[38;5;28mself\u001b[39m\u001b[38;5;241m.\u001b[39m_content \u001b[38;5;241m=\u001b[39m \u001b[38;5;124mb\u001b[39m\u001b[38;5;124m\"\u001b[39m\u001b[38;5;124m\"\u001b[39m\u001b[38;5;241m.\u001b[39mjoin(\u001b[38;5;28mself\u001b[39m\u001b[38;5;241m.\u001b[39miter_content(CONTENT_CHUNK_SIZE)) \u001b[38;5;129;01mor\u001b[39;00m \u001b[38;5;124mb\u001b[39m\u001b[38;5;124m\"\u001b[39m\u001b[38;5;124m\"\u001b[39m\n\u001b[1;32m    904\u001b[0m \u001b[38;5;28mself\u001b[39m\u001b[38;5;241m.\u001b[39m_content_consumed \u001b[38;5;241m=\u001b[39m \u001b[38;5;28;01mTrue\u001b[39;00m\n\u001b[1;32m    905\u001b[0m \u001b[38;5;66;03m# don't need to release the connection; that's been handled by urllib3\u001b[39;00m\n\u001b[1;32m    906\u001b[0m \u001b[38;5;66;03m# since we exhausted the data.\u001b[39;00m\n",
      "File \u001b[0;32m/opt/anaconda3/lib/python3.12/site-packages/requests/models.py:820\u001b[0m, in \u001b[0;36mResponse.iter_content.<locals>.generate\u001b[0;34m()\u001b[0m\n\u001b[1;32m    818\u001b[0m \u001b[38;5;28;01mif\u001b[39;00m \u001b[38;5;28mhasattr\u001b[39m(\u001b[38;5;28mself\u001b[39m\u001b[38;5;241m.\u001b[39mraw, \u001b[38;5;124m\"\u001b[39m\u001b[38;5;124mstream\u001b[39m\u001b[38;5;124m\"\u001b[39m):\n\u001b[1;32m    819\u001b[0m     \u001b[38;5;28;01mtry\u001b[39;00m:\n\u001b[0;32m--> 820\u001b[0m         \u001b[38;5;28;01myield from\u001b[39;00m \u001b[38;5;28mself\u001b[39m\u001b[38;5;241m.\u001b[39mraw\u001b[38;5;241m.\u001b[39mstream(chunk_size, decode_content\u001b[38;5;241m=\u001b[39m\u001b[38;5;28;01mTrue\u001b[39;00m)\n\u001b[1;32m    821\u001b[0m     \u001b[38;5;28;01mexcept\u001b[39;00m ProtocolError \u001b[38;5;28;01mas\u001b[39;00m e:\n\u001b[1;32m    822\u001b[0m         \u001b[38;5;28;01mraise\u001b[39;00m ChunkedEncodingError(e)\n",
      "File \u001b[0;32m/opt/anaconda3/lib/python3.12/site-packages/urllib3/response.py:1057\u001b[0m, in \u001b[0;36mHTTPResponse.stream\u001b[0;34m(self, amt, decode_content)\u001b[0m\n\u001b[1;32m   1041\u001b[0m \u001b[38;5;250m\u001b[39m\u001b[38;5;124;03m\"\"\"\u001b[39;00m\n\u001b[1;32m   1042\u001b[0m \u001b[38;5;124;03mA generator wrapper for the read() method. A call will block until\u001b[39;00m\n\u001b[1;32m   1043\u001b[0m \u001b[38;5;124;03m``amt`` bytes have been read from the connection or until the\u001b[39;00m\n\u001b[0;32m   (...)\u001b[0m\n\u001b[1;32m   1054\u001b[0m \u001b[38;5;124;03m    'content-encoding' header.\u001b[39;00m\n\u001b[1;32m   1055\u001b[0m \u001b[38;5;124;03m\"\"\"\u001b[39;00m\n\u001b[1;32m   1056\u001b[0m \u001b[38;5;28;01mif\u001b[39;00m \u001b[38;5;28mself\u001b[39m\u001b[38;5;241m.\u001b[39mchunked \u001b[38;5;129;01mand\u001b[39;00m \u001b[38;5;28mself\u001b[39m\u001b[38;5;241m.\u001b[39msupports_chunked_reads():\n\u001b[0;32m-> 1057\u001b[0m     \u001b[38;5;28;01myield from\u001b[39;00m \u001b[38;5;28mself\u001b[39m\u001b[38;5;241m.\u001b[39mread_chunked(amt, decode_content\u001b[38;5;241m=\u001b[39mdecode_content)\n\u001b[1;32m   1058\u001b[0m \u001b[38;5;28;01melse\u001b[39;00m:\n\u001b[1;32m   1059\u001b[0m     \u001b[38;5;28;01mwhile\u001b[39;00m \u001b[38;5;129;01mnot\u001b[39;00m is_fp_closed(\u001b[38;5;28mself\u001b[39m\u001b[38;5;241m.\u001b[39m_fp) \u001b[38;5;129;01mor\u001b[39;00m \u001b[38;5;28mlen\u001b[39m(\u001b[38;5;28mself\u001b[39m\u001b[38;5;241m.\u001b[39m_decoded_buffer) \u001b[38;5;241m>\u001b[39m \u001b[38;5;241m0\u001b[39m:\n",
      "File \u001b[0;32m/opt/anaconda3/lib/python3.12/site-packages/urllib3/response.py:1206\u001b[0m, in \u001b[0;36mHTTPResponse.read_chunked\u001b[0;34m(self, amt, decode_content)\u001b[0m\n\u001b[1;32m   1203\u001b[0m     amt \u001b[38;5;241m=\u001b[39m \u001b[38;5;28;01mNone\u001b[39;00m\n\u001b[1;32m   1205\u001b[0m \u001b[38;5;28;01mwhile\u001b[39;00m \u001b[38;5;28;01mTrue\u001b[39;00m:\n\u001b[0;32m-> 1206\u001b[0m     \u001b[38;5;28mself\u001b[39m\u001b[38;5;241m.\u001b[39m_update_chunk_length()\n\u001b[1;32m   1207\u001b[0m     \u001b[38;5;28;01mif\u001b[39;00m \u001b[38;5;28mself\u001b[39m\u001b[38;5;241m.\u001b[39mchunk_left \u001b[38;5;241m==\u001b[39m \u001b[38;5;241m0\u001b[39m:\n\u001b[1;32m   1208\u001b[0m         \u001b[38;5;28;01mbreak\u001b[39;00m\n",
      "File \u001b[0;32m/opt/anaconda3/lib/python3.12/site-packages/urllib3/response.py:1125\u001b[0m, in \u001b[0;36mHTTPResponse._update_chunk_length\u001b[0;34m(self)\u001b[0m\n\u001b[1;32m   1123\u001b[0m \u001b[38;5;28;01mif\u001b[39;00m \u001b[38;5;28mself\u001b[39m\u001b[38;5;241m.\u001b[39mchunk_left \u001b[38;5;129;01mis\u001b[39;00m \u001b[38;5;129;01mnot\u001b[39;00m \u001b[38;5;28;01mNone\u001b[39;00m:\n\u001b[1;32m   1124\u001b[0m     \u001b[38;5;28;01mreturn\u001b[39;00m \u001b[38;5;28;01mNone\u001b[39;00m\n\u001b[0;32m-> 1125\u001b[0m line \u001b[38;5;241m=\u001b[39m \u001b[38;5;28mself\u001b[39m\u001b[38;5;241m.\u001b[39m_fp\u001b[38;5;241m.\u001b[39mfp\u001b[38;5;241m.\u001b[39mreadline()  \u001b[38;5;66;03m# type: ignore[union-attr]\u001b[39;00m\n\u001b[1;32m   1126\u001b[0m line \u001b[38;5;241m=\u001b[39m line\u001b[38;5;241m.\u001b[39msplit(\u001b[38;5;124mb\u001b[39m\u001b[38;5;124m\"\u001b[39m\u001b[38;5;124m;\u001b[39m\u001b[38;5;124m\"\u001b[39m, \u001b[38;5;241m1\u001b[39m)[\u001b[38;5;241m0\u001b[39m]\n\u001b[1;32m   1127\u001b[0m \u001b[38;5;28;01mtry\u001b[39;00m:\n",
      "File \u001b[0;32m/opt/anaconda3/lib/python3.12/socket.py:708\u001b[0m, in \u001b[0;36mSocketIO.readinto\u001b[0;34m(self, b)\u001b[0m\n\u001b[1;32m    706\u001b[0m \u001b[38;5;28;01mwhile\u001b[39;00m \u001b[38;5;28;01mTrue\u001b[39;00m:\n\u001b[1;32m    707\u001b[0m     \u001b[38;5;28;01mtry\u001b[39;00m:\n\u001b[0;32m--> 708\u001b[0m         \u001b[38;5;28;01mreturn\u001b[39;00m \u001b[38;5;28mself\u001b[39m\u001b[38;5;241m.\u001b[39m_sock\u001b[38;5;241m.\u001b[39mrecv_into(b)\n\u001b[1;32m    709\u001b[0m     \u001b[38;5;28;01mexcept\u001b[39;00m timeout:\n\u001b[1;32m    710\u001b[0m         \u001b[38;5;28mself\u001b[39m\u001b[38;5;241m.\u001b[39m_timeout_occurred \u001b[38;5;241m=\u001b[39m \u001b[38;5;28;01mTrue\u001b[39;00m\n",
      "File \u001b[0;32m/opt/anaconda3/lib/python3.12/ssl.py:1252\u001b[0m, in \u001b[0;36mSSLSocket.recv_into\u001b[0;34m(self, buffer, nbytes, flags)\u001b[0m\n\u001b[1;32m   1248\u001b[0m     \u001b[38;5;28;01mif\u001b[39;00m flags \u001b[38;5;241m!=\u001b[39m \u001b[38;5;241m0\u001b[39m:\n\u001b[1;32m   1249\u001b[0m         \u001b[38;5;28;01mraise\u001b[39;00m \u001b[38;5;167;01mValueError\u001b[39;00m(\n\u001b[1;32m   1250\u001b[0m           \u001b[38;5;124m\"\u001b[39m\u001b[38;5;124mnon-zero flags not allowed in calls to recv_into() on \u001b[39m\u001b[38;5;132;01m%s\u001b[39;00m\u001b[38;5;124m\"\u001b[39m \u001b[38;5;241m%\u001b[39m\n\u001b[1;32m   1251\u001b[0m           \u001b[38;5;28mself\u001b[39m\u001b[38;5;241m.\u001b[39m\u001b[38;5;18m__class__\u001b[39m)\n\u001b[0;32m-> 1252\u001b[0m     \u001b[38;5;28;01mreturn\u001b[39;00m \u001b[38;5;28mself\u001b[39m\u001b[38;5;241m.\u001b[39mread(nbytes, buffer)\n\u001b[1;32m   1253\u001b[0m \u001b[38;5;28;01melse\u001b[39;00m:\n\u001b[1;32m   1254\u001b[0m     \u001b[38;5;28;01mreturn\u001b[39;00m \u001b[38;5;28msuper\u001b[39m()\u001b[38;5;241m.\u001b[39mrecv_into(buffer, nbytes, flags)\n",
      "File \u001b[0;32m/opt/anaconda3/lib/python3.12/ssl.py:1104\u001b[0m, in \u001b[0;36mSSLSocket.read\u001b[0;34m(self, len, buffer)\u001b[0m\n\u001b[1;32m   1102\u001b[0m \u001b[38;5;28;01mtry\u001b[39;00m:\n\u001b[1;32m   1103\u001b[0m     \u001b[38;5;28;01mif\u001b[39;00m buffer \u001b[38;5;129;01mis\u001b[39;00m \u001b[38;5;129;01mnot\u001b[39;00m \u001b[38;5;28;01mNone\u001b[39;00m:\n\u001b[0;32m-> 1104\u001b[0m         \u001b[38;5;28;01mreturn\u001b[39;00m \u001b[38;5;28mself\u001b[39m\u001b[38;5;241m.\u001b[39m_sslobj\u001b[38;5;241m.\u001b[39mread(\u001b[38;5;28mlen\u001b[39m, buffer)\n\u001b[1;32m   1105\u001b[0m     \u001b[38;5;28;01melse\u001b[39;00m:\n\u001b[1;32m   1106\u001b[0m         \u001b[38;5;28;01mreturn\u001b[39;00m \u001b[38;5;28mself\u001b[39m\u001b[38;5;241m.\u001b[39m_sslobj\u001b[38;5;241m.\u001b[39mread(\u001b[38;5;28mlen\u001b[39m)\n",
      "\u001b[0;31mKeyboardInterrupt\u001b[0m: "
     ]
    }
   ],
   "source": [
    "#this is the timer to run for the price and inputs the data into the csv\n",
    "\n",
    "#set timer to check in every week \n",
    "while(True):\n",
    "    check_price()\n",
    "    time.sleep(604800)"
   ]
  },
  {
   "cell_type": "code",
   "execution_count": 419,
   "id": "f2a61614-6199-4702-b134-8bf82a50421b",
   "metadata": {},
   "outputs": [
    {
     "name": "stdout",
     "output_type": "stream",
     "text": [
      "                                                Title   Price        Date  \\\n",
      "0   Stanley Quencher H2.0 FlowState Stainless Stee...  $35.00  2024-09-11   \n",
      "1   Stanley Quencher H2.0 FlowState Stainless Stee...  $35.00  2024-09-11   \n",
      "2   Stanley Quencher H2.0 FlowState Stainless Stee...  $35.00  2024-09-11   \n",
      "3   Stanley Quencher H2.0 FlowState Stainless Stee...  $35.00  2024-09-11   \n",
      "4   Stanley Quencher H2.0 FlowState Stainless Stee...  $35.00  2024-09-11   \n",
      "5   Stanley Quencher H2.0 FlowState Stainless Stee...  $35.00  2024-09-11   \n",
      "6   Stanley Quencher H2.0 FlowState Stainless Stee...  $35.00  2024-09-11   \n",
      "7   Stanley Quencher H2.0 FlowState Stainless Stee...  $35.00  2024-09-11   \n",
      "8   Stanley Quencher H2.0 FlowState Stainless Stee...  $35.00  2024-09-11   \n",
      "9   Stanley Quencher H2.0 FlowState Stainless Stee...  $35.00  2024-09-11   \n",
      "10  Stanley Quencher H2.0 FlowState Stainless Stee...  $35.00  2024-09-11   \n",
      "11  Stanley Quencher H2.0 FlowState Stainless Stee...  $35.00  2024-09-11   \n",
      "12  Stanley Quencher H2.0 FlowState Stainless Stee...  $35.00  2024-09-11   \n",
      "\n",
      "                Rating  \n",
      "0   4.7 out of 5 stars  \n",
      "1   4.7 out of 5 stars  \n",
      "2   4.7 out of 5 stars  \n",
      "3   4.7 out of 5 stars  \n",
      "4   4.7 out of 5 stars  \n",
      "5   4.7 out of 5 stars  \n",
      "6   4.7 out of 5 stars  \n",
      "7   4.7 out of 5 stars  \n",
      "8   4.7 out of 5 stars  \n",
      "9   4.7 out of 5 stars  \n",
      "10  4.7 out of 5 stars  \n",
      "11  4.7 out of 5 stars  \n",
      "12  4.7 out of 5 stars  \n"
     ]
    }
   ],
   "source": [
    "#\n",
    "\n",
    "import pandas as pd\n",
    "\n",
    "df = pd.read_csv(r'/Users/alizwamahamba/AmazonWScraperDataSet.csv')\n",
    "\n",
    "print(df)"
   ]
  },
  {
   "cell_type": "code",
   "execution_count": null,
   "id": "81b2a98d-cd79-46af-8f11-a8dc89c29de9",
   "metadata": {},
   "outputs": [],
   "source": [
    "#send an email automatically when the price drops below a certain amount if you want to\n",
    "\n",
    "#def send_mail():\n",
    "    #server = smtplib.SMTP_SSL('smtp.gmail.com',465)\n",
    "    #server.ehlo()\n",
    "    #server.starttls()\n",
    "    #server.ehlo()\n",
    "    #server.login('alizwasm@gmail.com','xxxxxxxxxxxxxx')\n",
    "    \n",
    "    #subject = \"The Stanley cup you want is below $15! Now is your chance to buy!\"\n",
    "    #body = \"Alizwa, This is the moment we have been waiting for. Now is your chance to pick up the cup of your dreams. Don't mess it up! Link here: https://www.amazon.com/Quencher-FlowState-Stainless-Insulated-Smoothie/dp/B0CP9YB3Q4/ref=sr_1_1_sspa?crid=3P3GCAOEVSLMF&dib=eyJ2IjoiMSJ9.nS0HmK5xS_QRN8xq7A0OLEcbGaAmSEkboWi3hjVGZDudrhFRTeqHb9QOX5IbZDG1MiZM035RFGrdiVCez6CZ9teEE5GroQQ95RZlqhfUr5nxpExKzYji__YgPLA9odJmbfWKgNyZJincL1MdpO9_qBsOjYaL9tWE_lW0G_33rdO6b1m14t-7Kza-wlPgPWo1tf70Z0VCj2WBL8p8Ygiz-dX0chMcEZBNa9QuvGp9xu9faR3-JOITxZzcalvQVKqqd109-uDA9rMKclvMiOYmVuY-OOfFVZBiA3wV8v3koMs.OGwBsfXF_ILNQkD54ju3Fd7UZxn_2XaW3eGX3k7mbUw&dib_tag=se&keywords=stanley%2Bcup&qid=1726060152&sprefix=stanley%2Caps%2C408&sr=8-1-spons&sp_csd=d2lkZ2V0TmFtZT1zcF9hdGY&th=1\n",
    "   \n",
    "    #msg = f\"Subject: {subject}\\n\\n{body}\"\n",
    "    \n",
    "    #server.sendmail(\n",
    "        #'alizwasm@gmail.com',\n",
    "        #msg\n",
    "     \n",
    "    #)\n"
   ]
  }
 ],
 "metadata": {
  "kernelspec": {
   "display_name": "Python 3 (ipykernel)",
   "language": "python",
   "name": "python3"
  },
  "language_info": {
   "codemirror_mode": {
    "name": "ipython",
    "version": 3
   },
   "file_extension": ".py",
   "mimetype": "text/x-python",
   "name": "python",
   "nbconvert_exporter": "python",
   "pygments_lexer": "ipython3",
   "version": "3.12.4"
  }
 },
 "nbformat": 4,
 "nbformat_minor": 5
}
